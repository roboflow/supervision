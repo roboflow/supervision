{
    "cells": [
        {
            "cell_type": "markdown",
            "metadata": {
                "id": "L1RnMc9XCWop"
            },
            "source": [
                "# Count Objects in a Zone\n",
                "\n",
                "\n",
                "---\n",
                "<a href=\"https://colab.research.google.com/github/roboflow/supervision/blob/develop/docs/notebooks/count-objects-in-a-zone.ipynb\"><img src=\"https://colab.research.google.com/assets/colab-badge.svg\" alt=\"Colab\"></a>\n"
            ]
        },
        {
            "cell_type": "markdown",
            "metadata": {
                "id": "icvH7schJ9Vk"
            },
            "source": [
                "Let's make sure that we have access to GPU. We can use `nvidia-smi` command to do that. In case of any problems navigate to `Edit -> Notebook settings -> Hardware accelerator`, set it to `GPU`, and then click `Save`."
            ]
        },
        {
            "cell_type": "code",
            "execution_count": null,
            "metadata": {
                "colab": {
                    "base_uri": "https://localhost:8080/"
                },
                "id": "tCOKR5IU1Byq",
                "outputId": "c52e8704-43fd-4d8e-fd84-a8ef29de1702",
                "vscode": {
                    "languageId": "shellscript"
                }
            },
            "outputs": [],
            "source": [
                "!nvidia-smi"
            ]
        },
        {
            "cell_type": "markdown",
            "metadata": {
                "id": "HD_CaRZMLE4U"
            },
            "source": [
                "# Install required packages"
            ]
        },
        {
            "cell_type": "code",
            "execution_count": 2,
            "metadata": {
                "colab": {
                    "base_uri": "https://localhost:8080/"
                },
                "id": "HDBhhvprDvR_",
                "outputId": "fae3e423-f6be-4528-b9dd-f638270e4d06",
                "vscode": {
                    "languageId": "shellscript"
                }
            },
            "outputs": [],
            "source": [
                "!pip install -q ultralytics supervision"
            ]
        },
        {
            "cell_type": "markdown",
            "metadata": {
                "id": "rMoDolaHLbNm"
            },
            "source": [
                "# Imports"
            ]
        },
        {
            "cell_type": "code",
            "execution_count": 3,
            "metadata": {
                "id": "uU7UDMzALWF0"
            },
            "outputs": [],
            "source": [
                "import numpy as np\n",
                "import supervision as sv\n",
                "from ultralytics import YOLO\n",
                "from supervision.assets import download_assets, VideoAssets"
            ]
        },
        {
            "cell_type": "markdown",
            "metadata": {
                "id": "4h8AWJDhL7Pu"
            },
            "source": [
                "# Download a Supervision video asset"
            ]
        },
        {
            "cell_type": "code",
            "execution_count": null,
            "metadata": {
                "colab": {
                    "base_uri": "https://localhost:8080/",
                    "height": 85,
                    "referenced_widgets": [
                        "0b883808d5464a7b8d7b3f6278247c88",
                        "ed938bb6bea84f50a0fd75423fc42142",
                        "bfb2d9b2722748c7887a93428fada503",
                        "5722a2a1888440aabf79ac3ef8cf23cb",
                        "363579b869e442d38a41513065776b4e",
                        "65317f4438494d53948bed56087c0352",
                        "64ea634ca71544e69e9b7271d6c0b99a",
                        "a2b2ff0a3aaf41839aa8d8dff3716f5c",
                        "e56fb4fad57a42609e82e16e2c701a1f",
                        "2e1df52b980d46409e24bcade69415be",
                        "fa03a0ae874348cfacb45acbaf6c46eb"
                    ]
                },
                "id": "Mq0WvouQDssE",
                "outputId": "38fcfe41-2a9b-4a37-8b09-6b3dee7db267"
            },
            "outputs": [],
            "source": [
                "path_to_video = download_assets(VideoAssets.MARKET_SQUARE)"
            ]
        },
        {
            "cell_type": "markdown",
            "metadata": {
                "id": "beEeuNPEMNfz"
            },
            "source": [
                "# Use Supervision to save the first frame to draw a zone."
            ]
        },
        {
            "cell_type": "code",
            "execution_count": null,
            "metadata": {
                "colab": {
                    "base_uri": "https://localhost:8080/",
                    "height": 961
                },
                "id": "q7zY_TWz8VtX",
                "outputId": "4cd198e8-b076-4d45-bc92-3b0e2e24d243"
            },
            "outputs": [],
            "source": [
                "generator = sv.get_video_frames_generator(path_to_video)\n",
                "frame = next(generator)\n",
                "sv.plot_image(frame, (12, 12))"
            ]
        },
        {
            "cell_type": "markdown",
            "metadata": {
                "id": "3LAGk2HTezxL"
            },
            "source": [
                "# Run Object Detection\n",
                "Let's start by running the detection model on the first frame and annotating the results. In this cookbook, we use [Ultralytics](https://github.com/ultralytics/ultralytics) YOLOv8, but it can be successfully replaced with [other models](https://supervision.roboflow.com/latest/detection/core/)."
            ]
        },
        {
            "cell_type": "markdown",
            "metadata": {
                "id": "vCi1-8xXe_Fj"
            },
            "source": [
                "We initiate the model and perform detection on the first frame of the video. Then, we convert the result into a [sv.Detections](https://supervision.roboflow.com/latest/detection/core/) object, which will be useful in the later parts of the cookbook."
            ]
        },
        {
            "cell_type": "code",
            "execution_count": null,
            "metadata": {
                "colab": {
                    "base_uri": "https://localhost:8080/"
                },
                "id": "VVgE62Ru5J12",
                "outputId": "5be94069-571b-4968-955f-56794163cebd"
            },
            "outputs": [],
            "source": [
                "model = YOLO(\"yolov8x.pt\")\n",
                "\n",
                "results = model(frame)[0]\n",
                "detections = sv.Detections.from_ultralytics(results)"
            ]
        },
        {
            "cell_type": "markdown",
            "metadata": {
                "id": "OC-rtO7Yfs47"
            },
            "source": [
                "The results we've obtained can be easily visualized with [sv.BoundingBoxAnnotator](https://supervision.roboflow.com/latest/annotators/#supervision.annotators.core.BoundingBoxAnnotator). By default, this annotator uses the same color to highlight objects of the same category. However, with the integration of a [tracker](https://supervision.roboflow.com/latest/trackers/), it becomes possible to assign unique colors to each tracked object. We can easily define our own [color palettes](https://supervision.roboflow.com/latest/draw/color/#supervision.draw.color.ColorPalette) and adjust parameters such as line thickness, allowing for a highly tailored visualization experience."
            ]
        },
        {
            "cell_type": "code",
            "execution_count": null,
            "metadata": {
                "id": "UT3AEW0ofdF5"
            },
            "outputs": [],
            "source": [
                "bounding_box_annotator = sv.BoundingBoxAnnotator(thickness=4)\n",
                "annotated_frame = bounding_box_annotator.annotate(frame.copy(), detections)\n",
                "sv.plot_image(annotated_frame, (12, 12))"
            ]
        },
        {
            "cell_type": "markdown",
            "metadata": {
                "id": "Xl4DompGgKqg"
            },
            "source": [
                "# Improve Visualizations"
            ]
        },
        {
            "cell_type": "markdown",
            "metadata": {
                "id": "CgQyYPHKgOK1"
            },
            "source": [
                "Supervision annotators can be easily combined with one another. Let's enhance our visualization by adding [sv.LabelAnnotator](https://supervision.roboflow.com/latest/annotators/#supervision.annotators.core.PolygonAnnotator.annotate), which we will use to mark detections with a label indicating their category and confidence level."
            ]
        },
        {
            "cell_type": "code",
            "execution_count": null,
            "metadata": {
                "colab": {
                    "background_save": true
                },
                "id": "w0AOg1MygXGa",
                "outputId": "ee04897c-87ee-4c8b-9479-806c73dffb43"
            },
            "outputs": [],
            "source": [
                "labels = [\n",
                "    f\"{results.names[class_id]} {confidence:0.2f}\"\n",
                "    for class_id, confidence\n",
                "    in zip(detections.class_id, detections.confidence)\n",
                "]\n",
                "\n",
                "bounding_box_annotator = sv.BoundingBoxAnnotator(thickness=4)\n",
                "label_annotator = sv.LabelAnnotator(text_thickness=4, text_scale=2)\n",
                "annotated_frame = frame.copy()\n",
                "annotated_frame = bounding_box_annotator.annotate(annotated_frame, detections)\n",
                "annotated_frame = label_annotator.annotate(annotated_frame, detections, labels)\n",
                "sv.plot_image(annotated_frame, (12, 12))"
            ]
        },
        {
            "cell_type": "markdown",
            "metadata": {
                "id": "CO7rJG2cMsuf"
            },
            "source": [
                "# Define polygons."
            ]
        },
        {
            "cell_type": "markdown",
            "metadata": {
                "id": "r2vL7qOMMa-_"
            },
            "source": [
                "We can use [VideoInfo.from_video_path](https://supervision.roboflow.com/develop/utils/video/#supervision.utils.video.VideoInfo) to learn basic information about our video, such as duration, resolution, or FPS."
            ]
        },
        {
            "cell_type": "code",
            "execution_count": null,
            "metadata": {
                "colab": {
                    "background_save": true
                },
                "id": "r4cR7XWk_D6o",
                "outputId": "40a1e6c3-4303-497a-931e-d3d37d490745"
            },
            "outputs": [],
            "source": [
                "w, h = sv.VideoInfo.from_video_path(path_to_video).resolution_wh"
            ]
        },
        {
            "cell_type": "markdown",
            "metadata": {
                "id": "RCwSbdLUg58v"
            },
            "source": [
                "With a known height and width, we can create a zone in the middle 4th of the screen. You can also use [PolygonZone](https://roboflow.github.io/polygonzone/), which enables you to draw your own polygons on an image and get the exact NumPy points. "
            ]
        },
        {
            "cell_type": "code",
            "execution_count": null,
            "metadata": {
                "colab": {
                    "background_save": true
                },
                "id": "lSWBlSyh5Hn8"
            },
            "outputs": [],
            "source": [
                "polygon = np.array([[w/4, h/4], [w/4, 3*h/4], [3*w/4, 3*h/4], [3*w/4, h/4]], dtype=np.int32)"
            ]
        },
        {
            "cell_type": "markdown",
            "metadata": {
                "id": "0tvmt0dMcMWT"
            },
            "source": [
                "# Initatiate Polygon Zones and Annotators"
            ]
        },
        {
            "cell_type": "markdown",
            "metadata": {
                "id": "C0u0Cna8i_kU"
            },
            "source": [
                "The polygons we've created can be visualized using [sv.PolygonZone](https://supervision.roboflow.com/latest/detection/tools/polygon_zone/). This tool also allows for polygons to be displayed on the video.\n",
                "\n",
                "The count of each people in each polygon will be displayed using [sv.PolygonZoneAnnotator](https://supervision.roboflow.com/latest/detection/tools/polygon_zone/#polygonzoneannotator).\n",
                "\n"
            ]
        },
        {
            "cell_type": "code",
            "execution_count": null,
            "metadata": {
                "colab": {
                    "background_save": true
                },
                "id": "h0stxENsAjxv",
                "outputId": "623adb0f-1b87-4037-aaee-cabdd6d51d70"
            },
            "outputs": [],
            "source": [
                "video_info = sv.VideoInfo.from_video_path(path_to_video)\n",
                "\n",
                "zone= sv.PolygonZone(polygon=polygon, frame_resolution_wh=video_info.resolution_wh)\n",
                "\n",
                "box_annotator = sv.BoundingBoxAnnotator(thickness=4)\n",
                "\n",
                "zone_annotator = sv.PolygonZoneAnnotator(zone=zone, color=sv.Color.WHITE, thickness=6, text_thickness=6, text_scale=4)"
            ]
        },
        {
            "cell_type": "code",
            "execution_count": null,
            "metadata": {},
            "outputs": [],
            "source": [
                "#since we are only worried about the first class, which is \"person\"\n",
                "detections = detections[detections.class_id == 0] \n",
                "\n",
                "#trigger determines if the detections are within the polygon zone.\n",
                "zone.trigger(detections=detections)\n",
                "\n",
                "#Annotate the frame with the updated detections for the frame\n",
                "annotated_frame = zone_annotator.annotate(annotated_frame)\n",
                "\n",
                "sv.plot_image(annotated_frame)"
            ]
        },
        {
            "cell_type": "markdown",
            "metadata": {
                "id": "1q8S9JTkblXO"
            },
            "source": [
                "# Process Video"
            ]
        },
        {
            "cell_type": "markdown",
            "metadata": {
                "id": "PlmAflYRhoD4"
            },
            "source": [
                "All the operations we plan to perform for each frame of our video - detection, annotation, and counting - are encapsulated in a function named callback."
            ]
        },
        {
            "cell_type": "code",
            "execution_count": null,
            "metadata": {
                "colab": {
                    "background_save": true
                },
                "id": "kUyrIT9E4Y9R"
            },
            "outputs": [],
            "source": [
                "def callback(frame: np.ndarray, _) -> np.ndarray:\n",
                "   \n",
                "   #imgsz=1280 sets the image size for YOLO model input, balancing detail retention and computational efficiency\n",
                "   #setting verbose equal to false will mute detection outputs of the model\n",
                "   results = model(frame, imgsz=1280, verbose=False)[0] \n",
                "   detections = sv.Detections.from_ultralytics(results)\n",
                "\n",
                "   detections = detections[detections.class_id == 0] \n",
                "\n",
                "   labels = [\n",
                "    f\"{results.names[class_id]} {confidence:0.2f}\"\n",
                "    for class_id, confidence\n",
                "    in zip(detections.class_id, detections.confidence)\n",
                "   ]\n",
                "\n",
                "   zone.trigger(detections=detections)\n",
                "\n",
                "   frame = bounding_box_annotator.annotate(scene=frame, detections=detections)\n",
                "\n",
                "   frame = label_annotator.annotate(scene=frame, detections=detections, labels=labels)\n",
                "\n",
                "   frame = zone_annotator.annotate(scene=frame)\n",
                "\n",
                "   return frame"
            ]
        },
        {
            "cell_type": "markdown",
            "metadata": {
                "id": "4XQkPQUXhpUI"
            },
            "source": [
                "Finally, we are ready to process our entire video. We will use [sv.process_video](https://supervision.roboflow.com/develop/utils/video/#supervision.utils.video.process_video) and pass to it the previously defined SOURCE_VIDEO_PATH, TARGET_VIDEO_PATH, and `callback`."
            ]
        },
        {
            "cell_type": "code",
            "execution_count": null,
            "metadata": {
                "colab": {
                    "background_save": true
                },
                "id": "HVlcEN_oiElp"
            },
            "outputs": [],
            "source": [
                "SOURCE_VIDEO_PATH = path_to_video\n",
                "TARGET_VIDEO_PATH = \"output.mp4\""
            ]
        },
        {
            "cell_type": "code",
            "execution_count": null,
            "metadata": {
                "colab": {
                    "background_save": true
                },
                "id": "SXV8B8RJ4ZCy"
            },
            "outputs": [],
            "source": [
                "sv.process_video(SOURCE_VIDEO_PATH, TARGET_VIDEO_PATH, callback = callback)"
            ]
        }
    ],
    "metadata": {
        "accelerator": "GPU",
        "colab": {
            "gpuType": "T4",
            "provenance": []
        },
        "kernelspec": {
            "display_name": "Python 3",
            "name": "python3"
        },
        "language_info": {
            "codemirror_mode": {
                "name": "ipython",
                "version": 3
            },
            "file_extension": ".py",
            "mimetype": "text/x-python",
            "name": "python",
            "nbconvert_exporter": "python",
            "pygments_lexer": "ipython3",
            "version": "3.11.5"
        },
        "widgets": {
            "application/vnd.jupyter.widget-state+json": {
                "0b883808d5464a7b8d7b3f6278247c88": {
                    "model_module": "@jupyter-widgets/controls",
                    "model_module_version": "1.5.0",
                    "model_name": "HBoxModel",
                    "state": {
                        "_dom_classes": [],
                        "_model_module": "@jupyter-widgets/controls",
                        "_model_module_version": "1.5.0",
                        "_model_name": "HBoxModel",
                        "_view_count": null,
                        "_view_module": "@jupyter-widgets/controls",
                        "_view_module_version": "1.5.0",
                        "_view_name": "HBoxView",
                        "box_style": "",
                        "children": [
                            "IPY_MODEL_ed938bb6bea84f50a0fd75423fc42142",
                            "IPY_MODEL_bfb2d9b2722748c7887a93428fada503",
                            "IPY_MODEL_5722a2a1888440aabf79ac3ef8cf23cb"
                        ],
                        "layout": "IPY_MODEL_363579b869e442d38a41513065776b4e"
                    }
                },
                "2e1df52b980d46409e24bcade69415be": {
                    "model_module": "@jupyter-widgets/base",
                    "model_module_version": "1.2.0",
                    "model_name": "LayoutModel",
                    "state": {
                        "_model_module": "@jupyter-widgets/base",
                        "_model_module_version": "1.2.0",
                        "_model_name": "LayoutModel",
                        "_view_count": null,
                        "_view_module": "@jupyter-widgets/base",
                        "_view_module_version": "1.2.0",
                        "_view_name": "LayoutView",
                        "align_content": null,
                        "align_items": null,
                        "align_self": null,
                        "border": null,
                        "bottom": null,
                        "display": null,
                        "flex": null,
                        "flex_flow": null,
                        "grid_area": null,
                        "grid_auto_columns": null,
                        "grid_auto_flow": null,
                        "grid_auto_rows": null,
                        "grid_column": null,
                        "grid_gap": null,
                        "grid_row": null,
                        "grid_template_areas": null,
                        "grid_template_columns": null,
                        "grid_template_rows": null,
                        "height": null,
                        "justify_content": null,
                        "justify_items": null,
                        "left": null,
                        "margin": null,
                        "max_height": null,
                        "max_width": null,
                        "min_height": null,
                        "min_width": null,
                        "object_fit": null,
                        "object_position": null,
                        "order": null,
                        "overflow": null,
                        "overflow_x": null,
                        "overflow_y": null,
                        "padding": null,
                        "right": null,
                        "top": null,
                        "visibility": null,
                        "width": null
                    }
                },
                "363579b869e442d38a41513065776b4e": {
                    "model_module": "@jupyter-widgets/base",
                    "model_module_version": "1.2.0",
                    "model_name": "LayoutModel",
                    "state": {
                        "_model_module": "@jupyter-widgets/base",
                        "_model_module_version": "1.2.0",
                        "_model_name": "LayoutModel",
                        "_view_count": null,
                        "_view_module": "@jupyter-widgets/base",
                        "_view_module_version": "1.2.0",
                        "_view_name": "LayoutView",
                        "align_content": null,
                        "align_items": null,
                        "align_self": null,
                        "border": null,
                        "bottom": null,
                        "display": null,
                        "flex": null,
                        "flex_flow": null,
                        "grid_area": null,
                        "grid_auto_columns": null,
                        "grid_auto_flow": null,
                        "grid_auto_rows": null,
                        "grid_column": null,
                        "grid_gap": null,
                        "grid_row": null,
                        "grid_template_areas": null,
                        "grid_template_columns": null,
                        "grid_template_rows": null,
                        "height": null,
                        "justify_content": null,
                        "justify_items": null,
                        "left": null,
                        "margin": null,
                        "max_height": null,
                        "max_width": null,
                        "min_height": null,
                        "min_width": null,
                        "object_fit": null,
                        "object_position": null,
                        "order": null,
                        "overflow": null,
                        "overflow_x": null,
                        "overflow_y": null,
                        "padding": null,
                        "right": null,
                        "top": null,
                        "visibility": null,
                        "width": null
                    }
                },
                "5722a2a1888440aabf79ac3ef8cf23cb": {
                    "model_module": "@jupyter-widgets/controls",
                    "model_module_version": "1.5.0",
                    "model_name": "HTMLModel",
                    "state": {
                        "_dom_classes": [],
                        "_model_module": "@jupyter-widgets/controls",
                        "_model_module_version": "1.5.0",
                        "_model_name": "HTMLModel",
                        "_view_count": null,
                        "_view_module": "@jupyter-widgets/controls",
                        "_view_module_version": "1.5.0",
                        "_view_name": "HTMLView",
                        "description": "",
                        "description_tooltip": null,
                        "layout": "IPY_MODEL_2e1df52b980d46409e24bcade69415be",
                        "placeholder": "​",
                        "style": "IPY_MODEL_fa03a0ae874348cfacb45acbaf6c46eb",
                        "value": " 20.3M/20.3M [00:02&lt;00:00, 17.2MB/s]"
                    }
                },
                "64ea634ca71544e69e9b7271d6c0b99a": {
                    "model_module": "@jupyter-widgets/controls",
                    "model_module_version": "1.5.0",
                    "model_name": "DescriptionStyleModel",
                    "state": {
                        "_model_module": "@jupyter-widgets/controls",
                        "_model_module_version": "1.5.0",
                        "_model_name": "DescriptionStyleModel",
                        "_view_count": null,
                        "_view_module": "@jupyter-widgets/base",
                        "_view_module_version": "1.2.0",
                        "_view_name": "StyleView",
                        "description_width": ""
                    }
                },
                "65317f4438494d53948bed56087c0352": {
                    "model_module": "@jupyter-widgets/base",
                    "model_module_version": "1.2.0",
                    "model_name": "LayoutModel",
                    "state": {
                        "_model_module": "@jupyter-widgets/base",
                        "_model_module_version": "1.2.0",
                        "_model_name": "LayoutModel",
                        "_view_count": null,
                        "_view_module": "@jupyter-widgets/base",
                        "_view_module_version": "1.2.0",
                        "_view_name": "LayoutView",
                        "align_content": null,
                        "align_items": null,
                        "align_self": null,
                        "border": null,
                        "bottom": null,
                        "display": null,
                        "flex": null,
                        "flex_flow": null,
                        "grid_area": null,
                        "grid_auto_columns": null,
                        "grid_auto_flow": null,
                        "grid_auto_rows": null,
                        "grid_column": null,
                        "grid_gap": null,
                        "grid_row": null,
                        "grid_template_areas": null,
                        "grid_template_columns": null,
                        "grid_template_rows": null,
                        "height": null,
                        "justify_content": null,
                        "justify_items": null,
                        "left": null,
                        "margin": null,
                        "max_height": null,
                        "max_width": null,
                        "min_height": null,
                        "min_width": null,
                        "object_fit": null,
                        "object_position": null,
                        "order": null,
                        "overflow": null,
                        "overflow_x": null,
                        "overflow_y": null,
                        "padding": null,
                        "right": null,
                        "top": null,
                        "visibility": null,
                        "width": null
                    }
                },
                "a2b2ff0a3aaf41839aa8d8dff3716f5c": {
                    "model_module": "@jupyter-widgets/base",
                    "model_module_version": "1.2.0",
                    "model_name": "LayoutModel",
                    "state": {
                        "_model_module": "@jupyter-widgets/base",
                        "_model_module_version": "1.2.0",
                        "_model_name": "LayoutModel",
                        "_view_count": null,
                        "_view_module": "@jupyter-widgets/base",
                        "_view_module_version": "1.2.0",
                        "_view_name": "LayoutView",
                        "align_content": null,
                        "align_items": null,
                        "align_self": null,
                        "border": null,
                        "bottom": null,
                        "display": null,
                        "flex": null,
                        "flex_flow": null,
                        "grid_area": null,
                        "grid_auto_columns": null,
                        "grid_auto_flow": null,
                        "grid_auto_rows": null,
                        "grid_column": null,
                        "grid_gap": null,
                        "grid_row": null,
                        "grid_template_areas": null,
                        "grid_template_columns": null,
                        "grid_template_rows": null,
                        "height": null,
                        "justify_content": null,
                        "justify_items": null,
                        "left": null,
                        "margin": null,
                        "max_height": null,
                        "max_width": null,
                        "min_height": null,
                        "min_width": null,
                        "object_fit": null,
                        "object_position": null,
                        "order": null,
                        "overflow": null,
                        "overflow_x": null,
                        "overflow_y": null,
                        "padding": null,
                        "right": null,
                        "top": null,
                        "visibility": null,
                        "width": null
                    }
                },
                "bfb2d9b2722748c7887a93428fada503": {
                    "model_module": "@jupyter-widgets/controls",
                    "model_module_version": "1.5.0",
                    "model_name": "FloatProgressModel",
                    "state": {
                        "_dom_classes": [],
                        "_model_module": "@jupyter-widgets/controls",
                        "_model_module_version": "1.5.0",
                        "_model_name": "FloatProgressModel",
                        "_view_count": null,
                        "_view_module": "@jupyter-widgets/controls",
                        "_view_module_version": "1.5.0",
                        "_view_name": "ProgressView",
                        "bar_style": "success",
                        "description": "",
                        "description_tooltip": null,
                        "layout": "IPY_MODEL_a2b2ff0a3aaf41839aa8d8dff3716f5c",
                        "max": 21302928,
                        "min": 0,
                        "orientation": "horizontal",
                        "style": "IPY_MODEL_e56fb4fad57a42609e82e16e2c701a1f",
                        "value": 21302928
                    }
                },
                "e56fb4fad57a42609e82e16e2c701a1f": {
                    "model_module": "@jupyter-widgets/controls",
                    "model_module_version": "1.5.0",
                    "model_name": "ProgressStyleModel",
                    "state": {
                        "_model_module": "@jupyter-widgets/controls",
                        "_model_module_version": "1.5.0",
                        "_model_name": "ProgressStyleModel",
                        "_view_count": null,
                        "_view_module": "@jupyter-widgets/base",
                        "_view_module_version": "1.2.0",
                        "_view_name": "StyleView",
                        "bar_color": "#a351fb",
                        "description_width": ""
                    }
                },
                "ed938bb6bea84f50a0fd75423fc42142": {
                    "model_module": "@jupyter-widgets/controls",
                    "model_module_version": "1.5.0",
                    "model_name": "HTMLModel",
                    "state": {
                        "_dom_classes": [],
                        "_model_module": "@jupyter-widgets/controls",
                        "_model_module_version": "1.5.0",
                        "_model_name": "HTMLModel",
                        "_view_count": null,
                        "_view_module": "@jupyter-widgets/controls",
                        "_view_module_version": "1.5.0",
                        "_view_name": "HTMLView",
                        "description": "",
                        "description_tooltip": null,
                        "layout": "IPY_MODEL_65317f4438494d53948bed56087c0352",
                        "placeholder": "​",
                        "style": "IPY_MODEL_64ea634ca71544e69e9b7271d6c0b99a",
                        "value": "100%"
                    }
                },
                "fa03a0ae874348cfacb45acbaf6c46eb": {
                    "model_module": "@jupyter-widgets/controls",
                    "model_module_version": "1.5.0",
                    "model_name": "DescriptionStyleModel",
                    "state": {
                        "_model_module": "@jupyter-widgets/controls",
                        "_model_module_version": "1.5.0",
                        "_model_name": "DescriptionStyleModel",
                        "_view_count": null,
                        "_view_module": "@jupyter-widgets/base",
                        "_view_module_version": "1.2.0",
                        "_view_name": "StyleView",
                        "description_width": ""
                    }
                }
            }
        }
    },
    "nbformat": 4,
    "nbformat_minor": 0
}
